#  [Umer Saeed](https://www.linkedin.com/in/engumersaeed/)
Sr. RF Planning & Optimization Engineer<br>
BSc Telecommunications Engineering, School of Engineering<br>
MS Data Science, School of Business and Economics<br>
**University of Management & Technology**<br>
**Mobile:**     +923018412180<br>
**Email:**  umersaeed81@hotmail.com<br>
**Address:** Dream Gardens,Defence Road, Lahore<br>

{
 "cells": [
  {
   "cell_type": "markdown",
   "id": "fbcf2484-8b78-41e8-838c-bfab416c5189",
   "metadata": {},
   "source": [
    "# Extracting and Consolidating Specific Data from Multiple Excel Files Using Python"
   ]
  },
  {
   "cell_type": "code",
   "execution_count": null,
   "id": "0734f6c2-9bac-4fc9-9120-9b5d30b38f4a",
   "metadata": {},
   "outputs": [],
   "source": [
    "import os\n",
    "import pandas as pd\n",
    "from openpyxl import load_workbook"
   ]
  },
  {
   "cell_type": "code",
   "execution_count": null,
   "id": "725e01a4-ff3f-45c4-bc70-5796a545094a",
   "metadata": {},
   "outputs": [],
   "source": [
    "# Folder containing the Excel files\n",
    "folder_path = \"D:/Advance_Data_Sets/WCMS\"  "
   ]
  },
  {
   "cell_type": "code",
   "execution_count": null,
   "id": "aa9d850b-24d2-4c6a-b27f-e39c5a022f16",
   "metadata": {},
   "outputs": [],
   "source": [
    "# Define the keys to extract\n",
    "keys_to_extract = [\n",
    "    \"Site ID\", \"Region\", \"City\", \"District\", \"Location Name\", \"Site Address\", \"Latitude\",\n",
    "    \"Longitude\", \"Zain ID\", \"Site Name 2G\", \"Site Name 3G\", \"Site Name LTE\", \"Site Name 5G\",\n",
    "    \"eNodeB ID\", \"5GNodeB ID\", \"Project \", \"Objective\", \"Band\", \"Site Type\", \"Building Height\", \"Antenna Type\"\n",
    "]"
   ]
  },
  {
   "cell_type": "code",
   "execution_count": null,
   "id": "94619169-dd6f-43f5-becb-7bf235d4fbf1",
   "metadata": {},
   "outputs": [],
   "source": [
    "# Initialize a list to store the data from all files\n",
    "all_data = []\n",
    "\n",
    "# Loop through all Excel files in the folder\n",
    "for file_name in os.listdir(folder_path):\n",
    "    if file_name.endswith(\".xlsx\"):  # Process only Excel files\n",
    "        file_path = os.path.join(folder_path, file_name)\n",
    "        \n",
    "        # Load the workbook\n",
    "        wb = load_workbook(file_path, data_only=True)\n",
    "        sheet = wb.active\n",
    "        \n",
    "        # Initialize a dictionary to store the extracted data\n",
    "        data = {\"File Name\": file_name}  # Include file name for reference\n",
    "        \n",
    "        # Loop through rows to find the desired keys and their values\n",
    "        for row in sheet.iter_rows():\n",
    "            for cell in row:\n",
    "                if cell.value in keys_to_extract:  # Check if the cell value is one of the keys\n",
    "                    data[cell.value] = cell.offset(column=2).value  # Get the value from the adjacent cell\n",
    "        \n",
    "        # Append the dictionary to the list\n",
    "        all_data.append(data)\n",
    "\n",
    "# Convert the list of dictionaries to a DataFrame\n",
    "df = pd.DataFrame(all_data)"
   ]
  },
  {
   "cell_type": "code",
   "execution_count": null,
   "id": "1db2741a-5e58-4dde-a925-34de52ec7d99",
   "metadata": {},
   "outputs": [],
   "source": [
    "# Requierd Order\n",
    "df1= df[['Site ID','Region','City','District','Location Name','Site Address',\n",
    "        'Latitude','Longitude','Zain ID','Site Name 2G','Site Name 3G',\n",
    "        'Site Name LTE','Site Name 5G','eNodeB ID','5GNodeB ID',\n",
    "        'Project ','Objective','Band','Site Type',\n",
    "        'Building Height','Antenna Type']]"
   ]
  },
  {
   "cell_type": "code",
   "execution_count": null,
   "id": "8d079d08-6b98-47bd-8d99-cc43eff38032",
   "metadata": {},
   "outputs": [],
   "source": [
    "# Remove leading/trailing spaces and normalize spaces in between\n",
    "df1.columns = df1.columns.str.strip().str.replace(r'\\s+', ' ', regex=True)"
   ]
  },
  {
   "cell_type": "code",
   "execution_count": null,
   "id": "d18b9c8d-f5f3-4262-b7c7-35af15bc6076",
   "metadata": {},
   "outputs": [],
   "source": [
    "# Export Ouput\n",
    "df1.to_excel(\"output.xlsx\", index=False)"
   ]
  }
 ],
 "metadata": {
  "kernelspec": {
   "display_name": "Python 3 (ipykernel)",
   "language": "python",
   "name": "python3"
  },
  "language_info": {
   "codemirror_mode": {
    "name": "ipython",
    "version": 3
   },
   "file_extension": ".py",
   "mimetype": "text/x-python",
   "name": "python",
   "nbconvert_exporter": "python",
   "pygments_lexer": "ipython3",
   "version": "3.12.7"
  }
 },
 "nbformat": 4,
 "nbformat_minor": 5
}
