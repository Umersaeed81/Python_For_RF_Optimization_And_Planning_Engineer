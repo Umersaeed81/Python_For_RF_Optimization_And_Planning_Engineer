{
 "cells": [
  {
   "cell_type": "code",
   "execution_count": 1,
   "id": "4a72501d-898a-4add-b09f-ff4dca2f0c3e",
   "metadata": {},
   "outputs": [],
   "source": [
    "import os\n",
    "import win32com.client"
   ]
  },
  {
   "cell_type": "code",
   "execution_count": 2,
   "id": "37eb33b1-932d-463d-b6dc-fca4283b9857",
   "metadata": {},
   "outputs": [],
   "source": [
    "# Set download path\n",
    "download_folder = r'D:\\Downloaded_Attachments'  # Change this to your desired location\n",
    "os.makedirs(download_folder, exist_ok=True)"
   ]
  },
  {
   "cell_type": "code",
   "execution_count": 3,
   "id": "989979f5-7834-4259-afe2-7418f1c7ae5f",
   "metadata": {},
   "outputs": [],
   "source": [
    "# Connect to Outlook\n",
    "outlook = win32com.client.Dispatch('Outlook.Application').GetNamespace('MAPI')\n",
    "\n",
    "# Access the Inbox > PRS folder\n",
    "inbox = outlook.GetDefaultFolder(6)  # 6 = Inbox\n",
    "prs_folder = None\n",
    "for folder in inbox.Folders:\n",
    "    if folder.Name == 'PRS':\n",
    "        prs_folder = folder\n",
    "        break\n",
    "\n",
    "if not prs_folder:\n",
    "    print(\"PRS folder not found in Inbox.\")\n",
    "    exit()"
   ]
  },
  {
   "cell_type": "code",
   "execution_count": 4,
   "id": "a045c471-be32-4bc4-ab0a-c6193d9f4faf",
   "metadata": {},
   "outputs": [
    {
     "name": "stdout",
     "output_type": "stream",
     "text": [
      "Downloaded: DAILY_BSSP_3G_59-20250303074854.zip\n",
      "Downloaded: DAILY_BSSP_3G_59-20250302074854.zip\n",
      "Downloaded: DAILY_BSSP_3G_59-20250301074854.zip\n",
      "Downloaded: DAILY_BSSP_3G_59-20250304074854.zip\n",
      "Downloaded: DAILY_BSSP_3G_59-20250305074854.zip\n",
      "Downloaded: DAILY_BSSP_3G_59-20250306074854.zip\n",
      "Downloaded: DAILY_BSSP_3G_59-20250307074854.zip\n",
      "Downloaded: DAILY_BSSP_3G_59-20250310074854.zip\n",
      "Downloaded: DAILY_BSSP_3G_59-20250309074854.zip\n",
      "Downloaded: DAILY_BSSP_3G_59-20250308074854.zip\n",
      "Downloaded: DAILY_BSSP_3G_59-20250311074854.zip\n",
      "Downloaded: DAILY_BSSP_3G_59-20250312074854.zip\n",
      "Downloaded: DAILY_BSSP_3G_59-20250313074854.zip\n",
      "Downloaded: DAILY_BSSP_3G_59-20250314074854.zip\n",
      "Downloaded: DAILY_BSSP_3G_59-20250317074854.zip\n",
      "Downloaded: DAILY_BSSP_3G_59-20250316074854.zip\n",
      "Downloaded: DAILY_BSSP_3G_59-20250315074854.zip\n",
      "Downloaded: DAILY_BSSP_3G_59-20250318074854.zip\n",
      "Downloaded: DAILY_BSSP_3G_59-20250319074854.zip\n",
      "Downloaded: DAILY_BSSP_3G_59-20250320074854.zip\n",
      "Downloaded: DAILY_BSSP_3G_59-20250321074854.zip\n",
      "Downloaded: DAILY_BSSP_3G_59-20250323074854.zip\n",
      "Downloaded: DAILY_BSSP_3G_59-20250322074854.zip\n",
      "Downloaded: DAILY_BSSP_3G_59-20250324074854.zip\n",
      "Downloaded: DAILY_BSSP_3G_59-20250325074854.zip\n",
      "Downloaded: DAILY_BSSP_3G_59-20250326074854.zip\n",
      "Downloaded: DAILY_BSSP_3G_59-20250327074854.zip\n",
      "Downloaded: DAILY_BSSP_3G_59-20250328074854.zip\n",
      "Downloaded: DAILY_BSSP_3G_59-20250401074854.zip\n",
      "Downloaded: DAILY_BSSP_3G_59-20250331074854.zip\n",
      "Downloaded: DAILY_BSSP_3G_59-20250330074854.zip\n",
      "Downloaded: DAILY_BSSP_3G_59-20250329074854.zip\n",
      "Downloaded: DAILY_BSSP_3G_59-20250406074854.zip\n",
      "Downloaded: DAILY_BSSP_3G_59-20250405074854.zip\n",
      "Downloaded: DAILY_BSSP_3G_59-20250404074854.zip\n",
      "Downloaded: DAILY_BSSP_3G_59-20250403074854.zip\n",
      "Downloaded: DAILY_BSSP_3G_59-20250402074854.zip\n",
      "Downloaded: DAILY_BSSP_3G_59-20250407074854.zip\n",
      "All matching attachments downloaded.\n"
     ]
    }
   ],
   "source": [
    "# Filter emails by subject\n",
    "messages = prs_folder.Items\n",
    "messages = messages.Restrict(\"[Subject] = 'AILY_BSSP_3G_59'\")\n",
    "\n",
    "# Loop through filtered emails and download attachments\n",
    "for message in messages:\n",
    "    if message.Class == 43:  # Ensure it's a MailItem\n",
    "        attachments = message.Attachments\n",
    "        for i in range(1, attachments.Count + 1):\n",
    "            attachment = attachments.Item(i)\n",
    "            attachment.SaveAsFile(os.path.join(download_folder, attachment.FileName))\n",
    "            print(f\"Downloaded: {attachment.FileName}\")\n",
    "\n",
    "print(\"All matching attachments downloaded.\")"
   ]
  },
  {
   "cell_type": "code",
   "execution_count": null,
   "id": "d6c91ae2-655f-4305-82ff-0099aa4ba3bb",
   "metadata": {},
   "outputs": [],
   "source": []
  }
 ],
 "metadata": {
  "kernelspec": {
   "display_name": "Python 3 (ipykernel)",
   "language": "python",
   "name": "python3"
  },
  "language_info": {
   "codemirror_mode": {
    "name": "ipython",
    "version": 3
   },
   "file_extension": ".py",
   "mimetype": "text/x-python",
   "name": "python",
   "nbconvert_exporter": "python",
   "pygments_lexer": "ipython3",
   "version": "3.12.7"
  }
 },
 "nbformat": 4,
 "nbformat_minor": 5
}
